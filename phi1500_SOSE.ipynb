{
 "cells": [
  {
   "cell_type": "markdown",
   "id": "c9315fbe",
   "metadata": {},
   "source": [
    "# Getting the relation between baroclinic streamfunction and cross-stream distance from the SOSE data"
   ]
  },
  {
   "cell_type": "code",
   "execution_count": 1,
   "id": "58c2126b",
   "metadata": {},
   "outputs": [],
   "source": [
    "import pickle\n",
    "import numpy as np\n",
    "import xarray as xr\n",
    "from scipy.io import loadmat\n",
    "from scipy.interpolate import RegularGridInterpolator\n",
    "from scipy.interpolate import interp1d\n",
    "\n",
    "import gsw\n",
    "import csaps\n",
    "\n",
    "import warnings"
   ]
  },
  {
   "cell_type": "markdown",
   "id": "bd011f02",
   "metadata": {},
   "source": [
    "## Sample points along hydrographic section transect"
   ]
  },
  {
   "cell_type": "code",
   "execution_count": 2,
   "id": "c10e2217",
   "metadata": {},
   "outputs": [],
   "source": [
    "# read in hydrographic section data\n",
    "data = loadmat('data/SR1b_section/sr1b_all.mat')\n",
    "\n",
    "icyc = np.where(data['buf_year'] != 1999)[1] # exclude 1999 # TODO: why?\n",
    "\n",
    "buf_lat = data['buf_lat'][0,icyc]\n",
    "buf_lon = data['buf_lon'][0,icyc]\n",
    "buf_sal = data['buf_sal'][:,icyc]\n",
    "buf_temp = data['buf_temp'][:,icyc]\n",
    "buf_press = data['buf_press'].reshape(3000)\n",
    "buf_year = data['buf_year'][:,icyc].reshape(316)"
   ]
  },
  {
   "cell_type": "code",
   "execution_count": 3,
   "id": "ca1892da",
   "metadata": {},
   "outputs": [],
   "source": [
    "# sample points along section\n",
    "start_lon_vals = []\n",
    "end_lon_vals = []\n",
    "start_lat_vals = []\n",
    "end_lat_vals = []\n",
    "for yr in np.unique(buf_year):\n",
    "  idx_yr = np.where(buf_year == yr)[0]\n",
    "  start_lon_vals.append(np.min(buf_lon[idx_yr]))\n",
    "  end_lon_vals.append(np.max(buf_lon[idx_yr]))\n",
    "  start_lat_vals.append(np.max(buf_lat[idx_yr]))\n",
    "  end_lat_vals.append(np.min(buf_lat[idx_yr]))\n",
    "start_lon = np.mean(np.array(start_lon_vals))\n",
    "end_lon = np.mean(np.array(end_lon_vals))\n",
    "start_lat = np.mean(np.array(start_lat_vals))\n",
    "end_lat = np.mean(np.array(end_lat_vals))\n",
    "\n",
    "# Extract unique points along the section\n",
    "nr_points = 30\n",
    "lon_along_section = np.linspace(start_lon, end_lon, nr_points)\n",
    "lat_along_section = np.linspace(start_lat, end_lat, nr_points)\n",
    "\n",
    "# calculate distance from southern end of section\n",
    "dist_along_section = np.zeros(len(lat_along_section))\n",
    "for i in range(len(dist_along_section)):\n",
    "  dist_along_section[i] = gsw.distance(np.mean(lon_along_section)*np.ones(2), np.array([min(lat_along_section), lat_along_section[i]]))[0]"
   ]
  },
  {
   "cell_type": "markdown",
   "id": "b89c86f2",
   "metadata": {},
   "source": [
    "## Process the SOSE data"
   ]
  },
  {
   "cell_type": "code",
   "execution_count": 4,
   "id": "c69b2359",
   "metadata": {},
   "outputs": [],
   "source": [
    "# Read in data\n",
    "sose_salt_dataset = xr.open_dataset('data/SOSE_reanalysis/Salt_bsoseI155_2013to2024_monthly_DP.nc')\n",
    "sose_salt = xr.DataArray(sose_salt_dataset['SALT'].values, \n",
    "                         dims=['time', 'Z', 'YC', 'XC'], \n",
    "                         coords = {'time': sose_salt_dataset['time'],\n",
    "                                    'XC': sose_salt_dataset['XC'],\n",
    "                                    'YC': sose_salt_dataset['YC'],\n",
    "                                    'Z': sose_salt_dataset['Z']})\n",
    "mask = sose_salt_dataset.maskC\n",
    "sose_salt = sose_salt.where(mask)\n",
    "\n",
    "sose_temp_dataset = xr.open_dataset('data/SOSE_reanalysis/Theta_bsoseI155_2013to2024_monthly_DP.nc')\n",
    "sose_temp = xr.DataArray(sose_temp_dataset['THETA'].values, \n",
    "                         dims=['time', 'Z', 'YC', 'XC'],\n",
    "                         coords = {'time': sose_temp_dataset['time'],\n",
    "                                    'XC': sose_temp_dataset['XC'],\n",
    "                                    'YC': sose_temp_dataset['YC'],\n",
    "                                    'Z': sose_temp_dataset['Z']})\n",
    "mask = sose_temp_dataset.maskC\n",
    "sose_temp = sose_temp.where(mask)\n",
    "\n",
    "sose_lat = sose_salt_dataset['YC'].values\n",
    "sose_lon = sose_salt_dataset['XC'].values - 360  # convert to -180 to 180 range\n",
    "sose_depth = sose_salt_dataset['Z'].values\n",
    "sose_time = sose_salt_dataset['time'].values"
   ]
  },
  {
   "cell_type": "code",
   "execution_count": 5,
   "id": "7c1bc7d9",
   "metadata": {},
   "outputs": [],
   "source": [
    "# transform depth to pressure\n",
    "sose_p = np.zeros((len(sose_depth), len(sose_lat)))\n",
    "for i in range(len(sose_lat)):\n",
    "    sose_p[:,i] = gsw.p_from_z(sose_depth, sose_lat[i])\n",
    "\n",
    "# interpolate p to section points\n",
    "p_section_sose = np.zeros((len(sose_depth), len(lat_along_section)))\n",
    "for i in range(len(sose_depth)):\n",
    "    p_section_sose[i,:] = np.interp(lat_along_section, sose_lat, sose_p[i,:])"
   ]
  },
  {
   "cell_type": "code",
   "execution_count": 6,
   "id": "f0a0d336",
   "metadata": {},
   "outputs": [],
   "source": [
    "# calculate absolute salinity and conservative temperature\n",
    "# sose_SA = np.zeros(np.shape(sose_salt))\n",
    "# for t in range(len(sose_time)):\n",
    "#     for d in range(len(sose_depth)):\n",
    "#         for i in range(len(sose_lat)):\n",
    "#             for j in range(len(sose_lon)):\n",
    "#                 sose_SA[t,d,i,j] = gsw.SA_from_SP(sose_salt[t,d,i,j], sose_p[d,i], sose_lon[j], sose_lat[i])\n",
    "# np.save('data/SOSE_reanalysis/sose_SA.npy', sose_SA)\n",
    "#sose_SA = np.load('data/SOSE_reanalysis/sose_SA.npy')  # load pre-calculated SA\n",
    "sose_SA = xr.DataArray(np.load('data/SOSE_reanalysis/sose_SA.npy'), \n",
    "                        dims=['time', 'depth', 'latitude', 'longitude'],\n",
    "                        coords={'time': sose_time,\n",
    "                                'longitude': sose_lon,\n",
    "                                'latitude': sose_lat,\n",
    "                                'depth': sose_depth})\n",
    "sose_CT = gsw.CT_from_pt(sose_SA, sose_temp.values)"
   ]
  },
  {
   "cell_type": "code",
   "execution_count": 7,
   "id": "f23f04bb",
   "metadata": {},
   "outputs": [],
   "source": [
    "# interpolate SA and CT to section points\n",
    "SA_section_sose = np.zeros((len(sose_time), len(sose_depth), len(lat_along_section)))\n",
    "CT_section_sose = np.zeros((len(sose_time), len(sose_depth), len(lat_along_section)))\n",
    "points = np.array([(lat, lon) for lat,lon in zip(lat_along_section,lon_along_section)])\n",
    "for i in range(len(sose_time)):\n",
    "    for j in range(len(sose_depth)):\n",
    "        f_SA_sose = RegularGridInterpolator((sose_lat, sose_lon), sose_SA.values[i,j,:,:])\n",
    "        f_CT_sose = RegularGridInterpolator((sose_lat, sose_lon), sose_CT.values[i,j,:,:])\n",
    "        SA_section_sose[i,j,:] = f_SA_sose(points)\n",
    "        CT_section_sose[i,j,:] = f_CT_sose(points)\n",
    "\n",
    "# interpolate in p (to high resolution)\n",
    "SA_section_interp_sose = np.zeros((len(sose_time), len(buf_press), len(lat_along_section)))\n",
    "CT_section_interp_sose = np.zeros((len(sose_time), len(buf_press), len(lat_along_section)))\n",
    "for i in range(len(sose_time)):\n",
    "    for j in range(len(lat_along_section)):\n",
    "        f_SA_sose = interp1d(p_section_sose[:,j], SA_section_sose[i,:,j], bounds_error=False, fill_value=np.nan)\n",
    "        f_CT_sose = interp1d(p_section_sose[:,j], CT_section_sose[i,:,j], bounds_error=False, fill_value=np.nan)\n",
    "        SA_section_interp_sose[i,:,j] = f_SA_sose(buf_press)\n",
    "        CT_section_interp_sose[i,:,j] = f_CT_sose(buf_press)"
   ]
  },
  {
   "cell_type": "code",
   "execution_count": 8,
   "id": "c82a7e95",
   "metadata": {},
   "outputs": [
    {
     "name": "stderr",
     "output_type": "stream",
     "text": [
      "/nethome/5664187/miniconda3/envs/carlo/lib/python3.13/site-packages/csaps/_sspumv.py:301: SparseEfficiencyWarning: spsolve requires A be CSC or CSR matrix format\n",
      "  u = la.spsolve(a, b)\n"
     ]
    }
   ],
   "source": [
    "# compute baroclinic streamfunction\n",
    "gpan_sose = np.zeros((len(sose_time), len(buf_press), len(lat_along_section)))\n",
    "for i in range(len(sose_time)):\n",
    "    gpan_sose[i,:,:] = -gsw.geo_strf_dyn_height(SA_section_interp_sose[i,:,:], CT_section_interp_sose[i,:,:], buf_press, 1500)\n",
    "\n",
    "sose_phi1500 = abs(gpan_sose[:,249,:])\n",
    "\n",
    "# make spline fit through relationship between phi1500 and distance\n",
    "dist_repeat = np.tile(dist_along_section, len(sose_time))\n",
    "sose_phi1500_flatten = sose_phi1500.flatten()\n",
    "pp_dist_sose = csaps.csaps(sose_phi1500_flatten[np.argsort(sose_phi1500_flatten)[:-np.count_nonzero(np.isnan(sose_phi1500_flatten))]],\n",
    "                           dist_repeat[np.argsort(sose_phi1500_flatten)[:-np.count_nonzero(np.isnan(sose_phi1500_flatten))]],\n",
    "                           smooth = 0.85)\n",
    "\n",
    "# save the spline fit\n",
    "with open('data/SOSE_reanalysis/pp_dist_sose.pkl', 'wb') as f:\n",
    "    pickle.dump(pp_dist_sose, f)"
   ]
  }
 ],
 "metadata": {
  "kernelspec": {
   "display_name": "carlo",
   "language": "python",
   "name": "python3"
  },
  "language_info": {
   "codemirror_mode": {
    "name": "ipython",
    "version": 3
   },
   "file_extension": ".py",
   "mimetype": "text/x-python",
   "name": "python",
   "nbconvert_exporter": "python",
   "pygments_lexer": "ipython3",
   "version": "3.13.5"
  }
 },
 "nbformat": 4,
 "nbformat_minor": 5
}
