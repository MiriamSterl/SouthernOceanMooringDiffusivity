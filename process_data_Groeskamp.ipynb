{
 "cells": [
  {
   "cell_type": "markdown",
   "id": "696706ae",
   "metadata": {},
   "source": [
    "# Extract eddy diffusivity data from Groeskamp et al. (2020) and interpolate them to our section coordinates"
   ]
  },
  {
   "cell_type": "code",
   "execution_count": 1,
   "id": "0737742c",
   "metadata": {},
   "outputs": [],
   "source": [
    "import pickle\n",
    "import h5py\n",
    "import numpy as np\n",
    "import xarray as xr\n",
    "from scipy.interpolate import RegularGridInterpolator\n",
    "from scipy.interpolate import interp1d"
   ]
  },
  {
   "cell_type": "markdown",
   "id": "25166759",
   "metadata": {},
   "source": [
    "## Load $K_0, K$ data from Groeskamp et al 2020"
   ]
  },
  {
   "cell_type": "markdown",
   "id": "1931af6c",
   "metadata": {},
   "source": [
    "Downloaded from https://figshare.com/articles/dataset/Groeskamp_et_al_2020_-_mixing_diffusivities/12554555"
   ]
  },
  {
   "cell_type": "code",
   "execution_count": 2,
   "id": "98b6a1df",
   "metadata": {},
   "outputs": [],
   "source": [
    "data_K0 = h5py.File('data/Groeskamp_diffusivity/WOA18_K0.mat', \"r\")\n",
    "K0 = data_K0['WOA18_K0']['K0_WOA']\n",
    "\n",
    "data_K = h5py.File('data/Groeskamp_diffusivity/WOA18_K.mat', \"r\")\n",
    "K = data_K['WOA18_K']['K_WOA']\n",
    "\n",
    "# Coordinates # TODO double check with Sjoerd\n",
    "data_am = h5py.File('data/WOA_climatology/WOA18_gsw_N2LL_am.mat', \"r\")\n",
    "\n",
    "xt = data_am['xt'][:][:,0]\n",
    "yt = data_am['yt'][:][:,0]\n",
    "zt = data_am['zt'][:][:,0] \n",
    "zt = np.hstack([0, zt[0:]]) # surface level is missing, so we add it manually # TODO check!"
   ]
  },
  {
   "cell_type": "code",
   "execution_count": 3,
   "id": "dc59e2da",
   "metadata": {},
   "outputs": [],
   "source": [
    "# Select subset in Drake Passage\n",
    "xt_sub = xt[300:307]\n",
    "yt_sub = yt[28:37]\n",
    "K0_sub = K0[:, 28:37, 300:307]\n",
    "K_sub = K[:, 28:37, 300:307]"
   ]
  },
  {
   "cell_type": "markdown",
   "id": "28c57e8c",
   "metadata": {},
   "source": [
    "## Load coordinates from mooring data (depth + location on section)"
   ]
  },
  {
   "cell_type": "code",
   "execution_count": 4,
   "id": "7be27a07",
   "metadata": {},
   "outputs": [],
   "source": [
    "# Moorings\n",
    "\n",
    "ds_moorings_sr1b_depth = xr.open_dataset(f'data/variables_from_moorings_SR1b-lat_depth.nc')\n",
    "depth_moorings = ds_moorings_sr1b_depth.depth\n",
    "lat_moorings = ds_moorings_sr1b_depth.lat\n",
    "\n",
    "with open('data/pp_lat_lon.pkl', 'rb') as f:\n",
    "    pp_lat_lon = pickle.load(f)\n",
    "\n",
    "lon_moorings = pp_lat_lon(lat_moorings) + 360 # add 360 shift for compatibility with WOA grid"
   ]
  },
  {
   "cell_type": "code",
   "execution_count": 5,
   "id": "ee403b02",
   "metadata": {},
   "outputs": [
    {
     "data": {
      "image/png": "[encoded data removed]",
      "text/plain": [
       "<Figure size 640x480 with 1 Axes>"
      ]
     },
     "metadata": {},
     "output_type": "display_data"
    }
   ],
   "source": [
    "# Checking how many grid cells of the Groeskamp et al data are covered by the moorings\n",
    "import matplotlib.pyplot as plt\n",
    "plt.scatter(lon_moorings, lat_moorings, c='r',s=10)\n",
    "plt.xticks([301,302,303,304])\n",
    "plt.yticks([-58,-57,-56,-55])\n",
    "plt.grid(True)"
   ]
  },
  {
   "cell_type": "markdown",
   "id": "d40f6384",
   "metadata": {},
   "source": [
    "## Interpolate $K_0, K$ to mooring coordinates"
   ]
  },
  {
   "cell_type": "code",
   "execution_count": 6,
   "id": "0bd73bc3",
   "metadata": {},
   "outputs": [],
   "source": [
    "# interpolate in x,y\n",
    "K0_moorings = np.zeros((len(zt), len(lat_moorings)))\n",
    "K_moorings = np.zeros((len(zt), len(lat_moorings)))\n",
    "points = np.array([(lat, lon) for lat,lon in zip(lat_moorings,lon_moorings)])\n",
    "for i in range(len(zt)):\n",
    "    f_K0 = RegularGridInterpolator((yt_sub, xt_sub), K0_sub[i,:,:], bounds_error=False,fill_value=np.nan)\n",
    "    f_K = RegularGridInterpolator((yt_sub, xt_sub), K_sub[i,:,:], bounds_error=False,fill_value=np.nan)\n",
    "    K0_moorings[i,:] = f_K0(points)\n",
    "    K_moorings[i,:] = f_K(points)\n",
    "\n",
    "# interpolate in z\n",
    "K0_moorings_interp = np.zeros((len(depth_moorings), len(lat_moorings)))\n",
    "K_moorings_interp = np.zeros((len(depth_moorings), len(lat_moorings)))\n",
    "for i in range(len(lat_moorings)):\n",
    "    f_K0 = interp1d(zt, K0_moorings[:,i], bounds_error=False, fill_value=np.nan)\n",
    "    f_K = interp1d(zt, K_moorings[:,i], bounds_error=False, fill_value=np.nan)\n",
    "    K0_moorings_interp[:,i] = f_K0(depth_moorings)\n",
    "    K_moorings_interp[:,i] = f_K(depth_moorings)"
   ]
  },
  {
   "cell_type": "code",
   "execution_count": 7,
   "id": "2c5ba7a9",
   "metadata": {},
   "outputs": [],
   "source": [
    "ds = xr.Dataset({\"K0\": ([\"depth\", \"lat\"], K0_moorings_interp),\n",
    "                 \"K\": ([\"depth\", \"lat\"], K_moorings_interp)},\n",
    "                coords={\"depth\": depth_moorings, \"lat\": lat_moorings})\n",
    "ds.to_netcdf('data/Groeskamp_diffusivity/eddy_diff_Groeskamp.nc')"
   ]
  },
  {
   "cell_type": "code",
   "execution_count": null,
   "id": "30de6532",
   "metadata": {},
   "outputs": [],
   "source": []
  }
 ],
 "metadata": {
  "kernelspec": {
   "display_name": "carlo",
   "language": "python",
   "name": "python3"
  },
  "language_info": {
   "codemirror_mode": {
    "name": "ipython",
    "version": 3
   },
   "file_extension": ".py",
   "mimetype": "text/x-python",
   "name": "python",
   "nbconvert_exporter": "python",
   "pygments_lexer": "ipython3",
   "version": "3.13.5"
  }
 },
 "nbformat": 4,
 "nbformat_minor": 5
}
