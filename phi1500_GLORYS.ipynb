{
 "cells": [
  {
   "cell_type": "markdown",
   "id": "c9315fbe",
   "metadata": {},
   "source": [
    "# Getting the relation between baroclinic streamfunction and cross-stream distance from the GLORYS12V1 data"
   ]
  },
  {
   "cell_type": "code",
   "execution_count": 1,
   "id": "58c2126b",
   "metadata": {},
   "outputs": [],
   "source": [
    "import pickle\n",
    "import numpy as np\n",
    "import xarray as xr\n",
    "from scipy.io import loadmat\n",
    "from scipy.interpolate import RegularGridInterpolator\n",
    "from scipy.interpolate import interp1d\n",
    "\n",
    "import gsw\n",
    "import csaps\n",
    "\n",
    "import warnings"
   ]
  },
  {
   "cell_type": "markdown",
   "id": "bd011f02",
   "metadata": {},
   "source": [
    "## Sample points along hydrographic section transect"
   ]
  },
  {
   "cell_type": "code",
   "execution_count": 2,
   "id": "c10e2217",
   "metadata": {},
   "outputs": [],
   "source": [
    "# read in hydrographic section data\n",
    "data = loadmat('data/SR1b_section/sr1b_all.mat')\n",
    "\n",
    "icyc = np.where(data['buf_year'] != 1999)[1] # exclude 1999 # TODO: why?\n",
    "\n",
    "buf_lat = data['buf_lat'][0,icyc]\n",
    "buf_lon = data['buf_lon'][0,icyc]\n",
    "buf_sal = data['buf_sal'][:,icyc]\n",
    "buf_temp = data['buf_temp'][:,icyc]\n",
    "buf_press = data['buf_press'].reshape(3000)\n",
    "buf_year = data['buf_year'][:,icyc].reshape(316)"
   ]
  },
  {
   "cell_type": "code",
   "execution_count": 3,
   "id": "ca1892da",
   "metadata": {},
   "outputs": [],
   "source": [
    "# sample points along section\n",
    "start_lon_vals = []\n",
    "end_lon_vals = []\n",
    "start_lat_vals = []\n",
    "end_lat_vals = []\n",
    "for yr in np.unique(buf_year):\n",
    "  idx_yr = np.where(buf_year == yr)[0]\n",
    "  start_lon_vals.append(np.min(buf_lon[idx_yr]))\n",
    "  end_lon_vals.append(np.max(buf_lon[idx_yr]))\n",
    "  start_lat_vals.append(np.max(buf_lat[idx_yr]))\n",
    "  end_lat_vals.append(np.min(buf_lat[idx_yr]))\n",
    "start_lon = np.mean(np.array(start_lon_vals))\n",
    "end_lon = np.mean(np.array(end_lon_vals))\n",
    "start_lat = np.mean(np.array(start_lat_vals))\n",
    "end_lat = np.mean(np.array(end_lat_vals))\n",
    "\n",
    "# Extract unique points along the section\n",
    "nr_points = 30\n",
    "lon_along_section = np.linspace(start_lon, end_lon, nr_points)\n",
    "lat_along_section = np.linspace(start_lat, end_lat, nr_points)\n",
    "\n",
    "# calculate distance from southern end of section\n",
    "dist_along_section = np.zeros(len(lat_along_section))\n",
    "for i in range(len(dist_along_section)):\n",
    "  dist_along_section[i] = gsw.distance(np.mean(lon_along_section)*np.ones(2), np.array([min(lat_along_section), lat_along_section[i]]))[0]"
   ]
  },
  {
   "cell_type": "markdown",
   "id": "b89c86f2",
   "metadata": {},
   "source": [
    "## Process the CMEMS data"
   ]
  },
  {
   "cell_type": "code",
   "execution_count": 4,
   "id": "c69b2359",
   "metadata": {},
   "outputs": [],
   "source": [
    "# Read in data\n",
    "cmems = xr.open_dataset('data/CMEMS_reanalysis/cmems_mod_glo_phy_my_0.083deg_P1M-m_2010-2012.nc') # downloaded on 07-07-2025\n",
    "cmems_lat = cmems['latitude'].values\n",
    "cmems_lon = cmems['longitude'].values\n",
    "cmems_depth = cmems['depth'].values\n",
    "cmems_time = cmems['time'].values\n",
    "idx = np.arange(len(cmems_time))\n",
    "\n",
    "cmems_so = xr.DataArray(cmems['so'].values, dims=['time', 'depth', 'latitude', 'longitude'],\n",
    "                        coords={'time': cmems_time,\n",
    "                                'longitude': cmems_lon,\n",
    "                                'latitude': cmems_lat,\n",
    "                                'depth': cmems_depth})\n",
    "\n",
    "cmems_thetao = xr.DataArray(cmems['thetao'].values, dims=['time', 'depth', 'latitude', 'longitude'],\n",
    "                            coords={'time': cmems_time,\n",
    "                                    'longitude': cmems_lon,\n",
    "                                    'latitude': cmems_lat,\n",
    "                                    'depth': cmems_depth})"
   ]
  },
  {
   "cell_type": "code",
   "execution_count": 5,
   "id": "7c1bc7d9",
   "metadata": {},
   "outputs": [],
   "source": [
    "# transform depth to pressure\n",
    "cmems_p = np.zeros((len(cmems_depth), len(cmems_lat)))\n",
    "for i in range(len(cmems_lat)):\n",
    "        cmems_p[:,i] = gsw.p_from_z(-cmems_depth, cmems_lat[i])\n",
    "\n",
    "# interpolate p to section points\n",
    "p_section_cmems = np.zeros((len(cmems_depth), len(lat_along_section)))\n",
    "for i in range(len(cmems_depth)):\n",
    "    p_section_cmems[i,:] = np.interp(lat_along_section, cmems_lat, cmems_p[i,:])"
   ]
  },
  {
   "cell_type": "code",
   "execution_count": 6,
   "id": "f0a0d336",
   "metadata": {},
   "outputs": [],
   "source": [
    "# calculate absolute salinity and conservative temperature\n",
    "# cmems_SA = np.zeros(np.shape(cmems_so))\n",
    "# for t in range(len(cmems_time)):\n",
    "#     for d in range(len(cmems_depth)):\n",
    "#         for i in range(len(cmems_lat)):\n",
    "#             for j in range(len(cmems_lon)):\n",
    "#                 cmems_SA[t,d,i,j] = gsw.SA_from_SP(cmems_so[t,d,i,j], cmems_p[d,i], cmems_lon[j], cmems_lat[i])\n",
    "# np.save('data/cmems_SA_1993-2005.npy', cmems_SA)  # save pre-calculated SA\n",
    "#cmems_SA = np.load('data/CMEMS_reanalysis/cmems_SA_2010-2012.npy') # load pre-calculated SA\n",
    "cmems_SA = xr.DataArray(np.load('data/CMEMS_reanalysis/cmems_SA_2010-2012.npy'), \n",
    "                        dims=['time', 'depth', 'latitude', 'longitude'],\n",
    "                        coords={'time': cmems_time,\n",
    "                                'longitude': cmems_lon,\n",
    "                                'latitude': cmems_lat,\n",
    "                                'depth': cmems_depth})\n",
    "cmems_CT = gsw.CT_from_pt(cmems_SA, cmems_thetao)"
   ]
  },
  {
   "cell_type": "code",
   "execution_count": 7,
   "id": "f23f04bb",
   "metadata": {},
   "outputs": [],
   "source": [
    "# interpolate SA and CT to section points\n",
    "SA_section_cmems = np.zeros((len(idx), len(cmems_depth), len(lat_along_section)))\n",
    "CT_section_cmems = np.zeros((len(idx), len(cmems_depth), len(lat_along_section)))\n",
    "points = np.array([(lat, lon) for lat,lon in zip(lat_along_section,lon_along_section)])\n",
    "for i in range(len(idx)):\n",
    "    for j in range(len(cmems_depth)):\n",
    "        f_SA_cmems = RegularGridInterpolator((cmems_lat, cmems_lon), cmems_SA.values[i,j,:,:])\n",
    "        f_CT_cmems = RegularGridInterpolator((cmems_lat, cmems_lon), cmems_CT.values[i,j,:,:])\n",
    "        SA_section_cmems[i,j,:] = f_SA_cmems(points)\n",
    "        CT_section_cmems[i,j,:] = f_CT_cmems(points)\n",
    "\n",
    "# interpolate in p (to high resolution)\n",
    "SA_section_interp_cmems = np.zeros((len(idx), len(buf_press), len(lat_along_section)))\n",
    "CT_section_interp_cmems = np.zeros((len(idx), len(buf_press), len(lat_along_section)))\n",
    "for i in range(len(idx)):\n",
    "    for j in range(len(lat_along_section)):\n",
    "        f_SA_cmems = interp1d(p_section_cmems[:,j], SA_section_cmems[i,:,j], bounds_error=False, fill_value=np.nan)\n",
    "        f_CT_cmems = interp1d(p_section_cmems[:,j], CT_section_cmems[i,:,j], bounds_error=False, fill_value=np.nan)\n",
    "        SA_section_interp_cmems[i,:,j] = f_SA_cmems(buf_press)\n",
    "        CT_section_interp_cmems[i,:,j] = f_CT_cmems(buf_press)"
   ]
  },
  {
   "cell_type": "code",
   "execution_count": 29,
   "id": "db221bf9",
   "metadata": {},
   "outputs": [
    {
     "name": "stderr",
     "output_type": "stream",
     "text": [
      "/nethome/5664187/miniconda3/envs/carlo/lib/python3.13/site-packages/csaps/_sspumv.py:301: SparseEfficiencyWarning: spsolve requires A be CSC or CSR matrix format\n",
      "  u = la.spsolve(a, b)\n"
     ]
    }
   ],
   "source": [
    "# compute baroclinic streamfunction\n",
    "gpan_cmems = np.zeros((len(idx), len(buf_press), len(lat_along_section)))\n",
    "for i in range(len(idx)):\n",
    "    gpan_cmems[i,:,:] = -gsw.geo_strf_dyn_height(SA_section_interp_cmems[i,:,:], CT_section_interp_cmems[i,:,:], buf_press, 1500)\n",
    "\n",
    "cmems_phi1500 = abs(gpan_cmems[:,249,:])\n",
    "\n",
    "# make spline fit through relationship between phi1500 and distance\n",
    "dist_repeat = np.tile(dist_along_section, len(cmems_time))\n",
    "cmems_phi1500_flatten = cmems_phi1500.flatten()\n",
    "pp_dist_cmems = csaps.csaps(cmems_phi1500_flatten[np.argsort(cmems_phi1500_flatten)[:-np.count_nonzero(np.isnan(cmems_phi1500_flatten))]],\n",
    "                      dist_repeat[np.argsort(cmems_phi1500_flatten)[:-np.count_nonzero(np.isnan(cmems_phi1500_flatten))]],\n",
    "                      smooth = 0.85)\n",
    "\n",
    "# save the spline fit\n",
    "with open('data/CMEMS_reanalysis/pp_dist_cmems.pkl', 'wb') as f:\n",
    "    pickle.dump(pp_dist_cmems, f)"
   ]
  }
 ],
 "metadata": {
  "kernelspec": {
   "display_name": "carlo",
   "language": "python",
   "name": "python3"
  },
  "language_info": {
   "codemirror_mode": {
    "name": "ipython",
    "version": 3
   },
   "file_extension": ".py",
   "mimetype": "text/x-python",
   "name": "python",
   "nbconvert_exporter": "python",
   "pygments_lexer": "ipython3",
   "version": "3.13.5"
  }
 },
 "nbformat": 4,
 "nbformat_minor": 5
}
