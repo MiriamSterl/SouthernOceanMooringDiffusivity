{
 "cells": [
  {
   "cell_type": "markdown",
   "id": "c9315fbe",
   "metadata": {},
   "source": [
    "# Getting the relation between baroclinic streamfunction and cross-stream distance from the SR1b data"
   ]
  },
  {
   "cell_type": "code",
   "execution_count": null,
   "id": "58c2126b",
   "metadata": {},
   "outputs": [],
   "source": [
    "import pickle\n",
    "import numpy as np\n",
    "from scipy.io import loadmat\n",
    "import gsw\n",
    "import csaps"
   ]
  },
  {
   "cell_type": "markdown",
   "id": "bd011f02",
   "metadata": {},
   "source": [
    "## Sample points along hydrographic section transect"
   ]
  },
  {
   "cell_type": "code",
   "execution_count": 2,
   "id": "c10e2217",
   "metadata": {},
   "outputs": [],
   "source": [
    "# read in hydrographic section data\n",
    "data = loadmat('data/SR1b_section/sr1b_all.mat')\n",
    "\n",
    "icyc = np.where(data['buf_year'] != 1999)[1] # exclude 1999 # TODO: why?\n",
    "\n",
    "sr1b_lat = data['buf_lat'][0,icyc]\n",
    "sr1b_lon = data['buf_lon'][0,icyc]\n",
    "sr1b_sal = data['buf_sal'][:,icyc]\n",
    "sr1b_temp = data['buf_temp'][:,icyc]\n",
    "sr1b_press = data['buf_press'].reshape(3000)\n",
    "sr1b_year = data['buf_year'][:,icyc].reshape(316)"
   ]
  },
  {
   "cell_type": "code",
   "execution_count": 3,
   "id": "c4585cfa",
   "metadata": {},
   "outputs": [
    {
     "name": "stderr",
     "output_type": "stream",
     "text": [
      "/nethome/5664187/miniconda3/envs/carlo/lib/python3.13/site-packages/csaps/_sspumv.py:301: SparseEfficiencyWarning: spsolve requires A be CSC or CSR matrix format\n",
      "  u = la.spsolve(a, b)\n"
     ]
    }
   ],
   "source": [
    "# calculate absolute salinity and conservative temperature\n",
    "sr1b_SA = gsw.SA_from_SP(sr1b_sal, sr1b_press.reshape(3000,1), sr1b_lon.reshape(1,316), sr1b_lat.reshape(1,316)) # absolute salinity\n",
    "sr1b_CT = gsw.conversions.CT_from_t(sr1b_SA, sr1b_temp, sr1b_press.reshape(3000,1)) # conservative temperature\n",
    "\n",
    "# compute baroclinic streamfunction\n",
    "gpan_sr1b = -gsw.geo_strf_dyn_height(sr1b_SA, sr1b_CT, sr1b_press, 1500) #geopotential height anomaly / dynamic height anomaly\n",
    "sr1b_phi1500 = abs(gpan_sr1b[249,:]) # index 250 is at 500 dbar\n",
    "\n",
    "# calculate distance from southern end of section\n",
    "sr1b_dist = np.zeros(len(sr1b_lat))\n",
    "for i in range(len(sr1b_lat)):\n",
    "  sr1b_dist[i] = gsw.distance(np.mean(sr1b_lon)*np.ones(2), np.array([min(sr1b_lat), sr1b_lat[i]]))[0]\n",
    "\n",
    "# Calculate mean relationship between phi1500 and distance from southern edge of section: fit a smoothing spline through relationship\n",
    "pp_dist_sr1b = csaps.csaps(sr1b_phi1500[np.argsort(sr1b_phi1500)[:-np.count_nonzero(np.isnan(sr1b_phi1500))]],\n",
    "                      sr1b_dist[np.argsort(sr1b_phi1500)[:-np.count_nonzero(np.isnan(sr1b_phi1500))]],\n",
    "                      smooth = 0.85)\n",
    "\n",
    "# save the spline fit\n",
    "with open('data/SR1b_section/pp_dist_sr1b.pkl', 'wb') as f:\n",
    "    pickle.dump(pp_dist_sr1b, f)"
   ]
  },
  {
   "cell_type": "code",
   "execution_count": null,
   "id": "fafa854f",
   "metadata": {},
   "outputs": [],
   "source": []
  }
 ],
 "metadata": {
  "kernelspec": {
   "display_name": "carlo",
   "language": "python",
   "name": "python3"
  },
  "language_info": {
   "codemirror_mode": {
    "name": "ipython",
    "version": 3
   },
   "file_extension": ".py",
   "mimetype": "text/x-python",
   "name": "python",
   "nbconvert_exporter": "python",
   "pygments_lexer": "ipython3",
   "version": "3.13.5"
  }
 },
 "nbformat": 4,
 "nbformat_minor": 5
}
